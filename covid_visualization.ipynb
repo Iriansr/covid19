{
  "nbformat": 4,
  "nbformat_minor": 0,
  "metadata": {
    "colab": {
      "name": "covid_model.ipynb",
      "provenance": [],
      "collapsed_sections": [],
      "authorship_tag": "ABX9TyPtDwD6k21yUib4PT4bCq0U",
      "include_colab_link": true
    },
    "kernelspec": {
      "name": "python3",
      "display_name": "Python 3"
    }
  },
  "cells": [
    {
      "cell_type": "markdown",
      "metadata": {
        "id": "view-in-github",
        "colab_type": "text"
      },
      "source": [
        "<a href=\"https://colab.research.google.com/github/Iriansr/covid19/blob/master/covid_visualization.ipynb\" target=\"_parent\"><img src=\"https://colab.research.google.com/assets/colab-badge.svg\" alt=\"Open In Colab\"/></a>"
      ]
    },
    {
      "cell_type": "markdown",
      "metadata": {
        "id": "TOwaGsr-XYcN",
        "colab_type": "text"
      },
      "source": [
        "# Daily study and modeling of COVID2019 cases\n"
      ]
    },
    {
      "cell_type": "code",
      "metadata": {
        "id": "Lxp1CA4g0Mhu",
        "colab_type": "code",
        "colab": {
          "base_uri": "https://localhost:8080/",
          "height": 204
        },
        "outputId": "8cf6659c-e8c5-4f60-85dd-474832b4d997"
      },
      "source": [
        "import pandas as pd\n",
        "import sqlite3 as sql\n",
        "import numpy as np\n",
        "import matplotlib.pyplot as plt\n",
        "import matplotlib.dates as mdates\n",
        "import seaborn as sns\n",
        "import plotly.express as px\n",
        "import urllib\n",
        "from bs4 import BeautifulSoup\n",
        "from urllib.request import urlopen, urlretrieve\n",
        "from urllib.error import HTTPError\n",
        "from sklearn import datasets, linear_model\n",
        "from sklearn.model_selection import train_test_split\n",
        "\n",
        "# change dates (updated 17/03 when database changed)\n",
        "dls = \"https://www.ecdc.europa.eu/sites/default/files/documents/COVID-19-geographic-disbtribution-worldwide-2020-03-17.xlsx\"\n",
        "urllib.request.urlretrieve(dls, \"datos.xlsx\")\n",
        "casos = pd.read_excel('datos.xlsx')"
      ],
      "execution_count": 2,
      "outputs": [
        {
          "output_type": "execute_result",
          "data": {
            "text/html": [
              "<div>\n",
              "<style scoped>\n",
              "    .dataframe tbody tr th:only-of-type {\n",
              "        vertical-align: middle;\n",
              "    }\n",
              "\n",
              "    .dataframe tbody tr th {\n",
              "        vertical-align: top;\n",
              "    }\n",
              "\n",
              "    .dataframe thead th {\n",
              "        text-align: right;\n",
              "    }\n",
              "</style>\n",
              "<table border=\"1\" class=\"dataframe\">\n",
              "  <thead>\n",
              "    <tr style=\"text-align: right;\">\n",
              "      <th></th>\n",
              "      <th>DateRep</th>\n",
              "      <th>Day</th>\n",
              "      <th>Month</th>\n",
              "      <th>Year</th>\n",
              "      <th>Cases</th>\n",
              "      <th>Deaths</th>\n",
              "      <th>Countries and territories</th>\n",
              "      <th>GeoId</th>\n",
              "    </tr>\n",
              "  </thead>\n",
              "  <tbody>\n",
              "    <tr>\n",
              "      <th>0</th>\n",
              "      <td>2020-03-17</td>\n",
              "      <td>17</td>\n",
              "      <td>3</td>\n",
              "      <td>2020</td>\n",
              "      <td>5</td>\n",
              "      <td>0</td>\n",
              "      <td>Afghanistan</td>\n",
              "      <td>AF</td>\n",
              "    </tr>\n",
              "    <tr>\n",
              "      <th>1</th>\n",
              "      <td>2020-03-16</td>\n",
              "      <td>16</td>\n",
              "      <td>3</td>\n",
              "      <td>2020</td>\n",
              "      <td>6</td>\n",
              "      <td>0</td>\n",
              "      <td>Afghanistan</td>\n",
              "      <td>AF</td>\n",
              "    </tr>\n",
              "    <tr>\n",
              "      <th>2</th>\n",
              "      <td>2020-03-15</td>\n",
              "      <td>15</td>\n",
              "      <td>3</td>\n",
              "      <td>2020</td>\n",
              "      <td>3</td>\n",
              "      <td>0</td>\n",
              "      <td>Afghanistan</td>\n",
              "      <td>AF</td>\n",
              "    </tr>\n",
              "    <tr>\n",
              "      <th>3</th>\n",
              "      <td>2020-03-11</td>\n",
              "      <td>11</td>\n",
              "      <td>3</td>\n",
              "      <td>2020</td>\n",
              "      <td>3</td>\n",
              "      <td>0</td>\n",
              "      <td>Afghanistan</td>\n",
              "      <td>AF</td>\n",
              "    </tr>\n",
              "    <tr>\n",
              "      <th>4</th>\n",
              "      <td>2020-03-08</td>\n",
              "      <td>8</td>\n",
              "      <td>3</td>\n",
              "      <td>2020</td>\n",
              "      <td>3</td>\n",
              "      <td>0</td>\n",
              "      <td>Afghanistan</td>\n",
              "      <td>AF</td>\n",
              "    </tr>\n",
              "  </tbody>\n",
              "</table>\n",
              "</div>"
            ],
            "text/plain": [
              "     DateRep  Day  Month  Year  Cases  Deaths Countries and territories GeoId\n",
              "0 2020-03-17   17      3  2020      5       0               Afghanistan    AF\n",
              "1 2020-03-16   16      3  2020      6       0               Afghanistan    AF\n",
              "2 2020-03-15   15      3  2020      3       0               Afghanistan    AF\n",
              "3 2020-03-11   11      3  2020      3       0               Afghanistan    AF\n",
              "4 2020-03-08    8      3  2020      3       0               Afghanistan    AF"
            ]
          },
          "metadata": {
            "tags": []
          },
          "execution_count": 2
        }
      ]
    },
    {
      "cell_type": "markdown",
      "metadata": {
        "id": "nBLmh06m2CcZ",
        "colab_type": "text"
      },
      "source": [
        "# New Confirmed cases for COVID-19 data visualization.\n",
        "\n",
        "For representing an interactive graph use the list *custom_countries*.\n",
        "\n",
        "Valid entries in `*countries_list*`.\n",
        "\n"
      ]
    },
    {
      "cell_type": "code",
      "metadata": {
        "id": "Hb39Tg6BXmq6",
        "colab_type": "code",
        "outputId": "1dd6f199-a615-4b96-dc01-23e7ecbfac39",
        "colab": {
          "base_uri": "https://localhost:8080/",
          "height": 542
        }
      },
      "source": [
        "## Write here the countries you want to represent\n",
        "custom_countries = ['Spain', 'Italy','Japan']\n",
        "\n",
        "casos1 = casos.rename(columns={'Countries and territories': 'Countries'})\n",
        "countries0 = casos1.Countries.values\n",
        "countries = np.unique(countries0)\n",
        "custom = casos1[casos1['Countries'].isin(custom_countries)]\n",
        "# All countries (coment for changing):\n",
        "fig = px.line(casos1, x=\"DateRep\", y=\"Cases\", hover_name =\"Countries\", color =\"Countries\")\n",
        "# Custom (coment for changing)\n",
        "fig = px.line(custom, x=\"DateRep\", y=\"Cases\", hover_name =\"Countries\", color =\"Countries\")\n",
        "fig.show()"
      ],
      "execution_count": 10,
      "outputs": [
        {
          "output_type": "display_data",
          "data": {
            "text/html": [
              "<html>\n",
              "<head><meta charset=\"utf-8\" /></head>\n",
              "<body>\n",
              "    <div>\n",
              "            <script src=\"https://cdnjs.cloudflare.com/ajax/libs/mathjax/2.7.5/MathJax.js?config=TeX-AMS-MML_SVG\"></script><script type=\"text/javascript\">if (window.MathJax) {MathJax.Hub.Config({SVG: {font: \"STIX-Web\"}});}</script>\n",
              "                <script type=\"text/javascript\">window.PlotlyConfig = {MathJaxConfig: 'local'};</script>\n",
              "        <script src=\"https://cdn.plot.ly/plotly-latest.min.js\"></script>    \n",
              "            <div id=\"fa7f4d0d-d09b-4090-bc8c-0844abc45680\" class=\"plotly-graph-div\" style=\"height:525px; width:100%;\"></div>\n",
              "            <script type=\"text/javascript\">\n",
              "                \n",
              "                    window.PLOTLYENV=window.PLOTLYENV || {};\n",
              "                    \n",
              "                if (document.getElementById(\"fa7f4d0d-d09b-4090-bc8c-0844abc45680\")) {\n",
              "                    Plotly.newPlot(\n",
              "                        'fa7f4d0d-d09b-4090-bc8c-0844abc45680',\n",
              "                        [{\"hoverlabel\": {\"namelength\": 0}, \"hovertemplate\": \"<b>%{hovertext}</b><br><br>Countries=Italy<br>DateRep=%{x}<br>Cases=%{y}\", \"hovertext\": [\"Italy\", \"Italy\", \"Italy\", \"Italy\", \"Italy\", \"Italy\", \"Italy\", \"Italy\", \"Italy\", \"Italy\", \"Italy\", \"Italy\", \"Italy\", \"Italy\", \"Italy\", \"Italy\", \"Italy\", \"Italy\", \"Italy\", \"Italy\", \"Italy\", \"Italy\", \"Italy\", \"Italy\", \"Italy\", \"Italy\", \"Italy\", \"Italy\", \"Italy\", \"Italy\", \"Italy\", \"Italy\", \"Italy\", \"Italy\", \"Italy\", \"Italy\", \"Italy\", \"Italy\", \"Italy\", \"Italy\", \"Italy\", \"Italy\", \"Italy\", \"Italy\", \"Italy\", \"Italy\", \"Italy\", \"Italy\", \"Italy\", \"Italy\", \"Italy\", \"Italy\", \"Italy\", \"Italy\", \"Italy\", \"Italy\", \"Italy\", \"Italy\", \"Italy\", \"Italy\", \"Italy\", \"Italy\", \"Italy\", \"Italy\", \"Italy\", \"Italy\", \"Italy\", \"Italy\", \"Italy\", \"Italy\", \"Italy\", \"Italy\", \"Italy\", \"Italy\", \"Italy\", \"Italy\", \"Italy\", \"Italy\"], \"legendgroup\": \"Countries=Italy\", \"line\": {\"color\": \"#636efa\", \"dash\": \"solid\"}, \"mode\": \"lines\", \"name\": \"Countries=Italy\", \"showlegend\": true, \"type\": \"scatter\", \"x\": [\"2020-03-17T00:00:00\", \"2020-03-16T00:00:00\", \"2020-03-15T00:00:00\", \"2020-03-14T00:00:00\", \"2020-03-13T00:00:00\", \"2020-03-12T00:00:00\", \"2020-03-11T00:00:00\", \"2020-03-10T00:00:00\", \"2020-03-09T00:00:00\", \"2020-03-08T00:00:00\", \"2020-03-07T00:00:00\", \"2020-03-06T00:00:00\", \"2020-03-05T00:00:00\", \"2020-03-04T00:00:00\", \"2020-03-03T00:00:00\", \"2020-03-02T00:00:00\", \"2020-03-01T00:00:00\", \"2020-02-29T00:00:00\", \"2020-02-28T00:00:00\", \"2020-02-27T00:00:00\", \"2020-02-26T00:00:00\", \"2020-02-25T00:00:00\", \"2020-02-24T00:00:00\", \"2020-02-23T00:00:00\", \"2020-02-22T00:00:00\", \"2020-02-21T00:00:00\", \"2020-02-20T00:00:00\", \"2020-02-19T00:00:00\", \"2020-02-18T00:00:00\", \"2020-02-17T00:00:00\", \"2020-02-16T00:00:00\", \"2020-02-15T00:00:00\", \"2020-02-14T00:00:00\", \"2020-02-13T00:00:00\", \"2020-02-12T00:00:00\", \"2020-02-11T00:00:00\", \"2020-02-10T00:00:00\", \"2020-02-09T00:00:00\", \"2020-02-08T00:00:00\", \"2020-02-07T00:00:00\", \"2020-02-06T00:00:00\", \"2020-02-05T00:00:00\", \"2020-02-04T00:00:00\", \"2020-02-03T00:00:00\", \"2020-02-02T00:00:00\", \"2020-02-01T00:00:00\", \"2020-01-31T00:00:00\", \"2020-01-30T00:00:00\", \"2020-01-29T00:00:00\", \"2020-01-28T00:00:00\", \"2020-01-27T00:00:00\", \"2020-01-26T00:00:00\", \"2020-01-25T00:00:00\", \"2020-01-24T00:00:00\", \"2020-01-23T00:00:00\", \"2020-01-22T00:00:00\", \"2020-01-21T00:00:00\", \"2020-01-20T00:00:00\", \"2020-01-19T00:00:00\", \"2020-01-18T00:00:00\", \"2020-01-17T00:00:00\", \"2020-01-16T00:00:00\", \"2020-01-15T00:00:00\", \"2020-01-14T00:00:00\", \"2020-01-13T00:00:00\", \"2020-01-12T00:00:00\", \"2020-01-11T00:00:00\", \"2020-01-10T00:00:00\", \"2020-01-09T00:00:00\", \"2020-01-08T00:00:00\", \"2020-01-07T00:00:00\", \"2020-01-06T00:00:00\", \"2020-01-05T00:00:00\", \"2020-01-04T00:00:00\", \"2020-01-03T00:00:00\", \"2020-01-02T00:00:00\", \"2020-01-01T00:00:00\", \"2019-12-31T00:00:00\"], \"xaxis\": \"x\", \"y\": [4000, 6230, 90, 2547, 2651, 2313, 977, 1797, 1492, 1247, 778, 769, 587, 667, 146, 561, 240, 238, 250, 78, 93, 97, 53, 62, 14, 0, 0, 0, 0, 0, 0, 0, 0, 0, 0, 0, 0, 0, 0, 0, 0, 0, 0, 0, 0, 0, 3, 0, 0, 0, 0, 0, 0, 0, 0, 0, 0, 0, 0, 0, 0, 0, 0, 0, 0, 0, 0, 0, 0, 0, 0, 0, 0, 0, 0, 0, 0, 0], \"yaxis\": \"y\"}, {\"hoverlabel\": {\"namelength\": 0}, \"hovertemplate\": \"<b>%{hovertext}</b><br><br>Countries=Japan<br>DateRep=%{x}<br>Cases=%{y}\", \"hovertext\": [\"Japan\", \"Japan\", \"Japan\", \"Japan\", \"Japan\", \"Japan\", \"Japan\", \"Japan\", \"Japan\", \"Japan\", \"Japan\", \"Japan\", \"Japan\", \"Japan\", \"Japan\", \"Japan\", \"Japan\", \"Japan\", \"Japan\", \"Japan\", \"Japan\", \"Japan\", \"Japan\", \"Japan\", \"Japan\", \"Japan\", \"Japan\", \"Japan\", \"Japan\", \"Japan\", \"Japan\", \"Japan\", \"Japan\", \"Japan\", \"Japan\", \"Japan\", \"Japan\", \"Japan\", \"Japan\", \"Japan\", \"Japan\", \"Japan\", \"Japan\", \"Japan\", \"Japan\", \"Japan\", \"Japan\", \"Japan\", \"Japan\", \"Japan\", \"Japan\", \"Japan\", \"Japan\", \"Japan\", \"Japan\", \"Japan\", \"Japan\", \"Japan\", \"Japan\", \"Japan\", \"Japan\", \"Japan\", \"Japan\", \"Japan\", \"Japan\", \"Japan\", \"Japan\", \"Japan\", \"Japan\", \"Japan\", \"Japan\", \"Japan\", \"Japan\", \"Japan\", \"Japan\", \"Japan\", \"Japan\", \"Japan\"], \"legendgroup\": \"Countries=Japan\", \"line\": {\"color\": \"#EF553B\", \"dash\": \"solid\"}, \"mode\": \"lines\", \"name\": \"Countries=Japan\", \"showlegend\": true, \"type\": \"scatter\", \"x\": [\"2020-03-17T00:00:00\", \"2020-03-16T00:00:00\", \"2020-03-15T00:00:00\", \"2020-03-14T00:00:00\", \"2020-03-13T00:00:00\", \"2020-03-12T00:00:00\", \"2020-03-11T00:00:00\", \"2020-03-10T00:00:00\", \"2020-03-09T00:00:00\", \"2020-03-08T00:00:00\", \"2020-03-07T00:00:00\", \"2020-03-06T00:00:00\", \"2020-03-05T00:00:00\", \"2020-03-04T00:00:00\", \"2020-03-03T00:00:00\", \"2020-03-02T00:00:00\", \"2020-03-01T00:00:00\", \"2020-02-29T00:00:00\", \"2020-02-28T00:00:00\", \"2020-02-27T00:00:00\", \"2020-02-26T00:00:00\", \"2020-02-25T00:00:00\", \"2020-02-24T00:00:00\", \"2020-02-23T00:00:00\", \"2020-02-22T00:00:00\", \"2020-02-21T00:00:00\", \"2020-02-20T00:00:00\", \"2020-02-19T00:00:00\", \"2020-02-18T00:00:00\", \"2020-02-17T00:00:00\", \"2020-02-16T00:00:00\", \"2020-02-15T00:00:00\", \"2020-02-14T00:00:00\", \"2020-02-13T00:00:00\", \"2020-02-12T00:00:00\", \"2020-02-11T00:00:00\", \"2020-02-10T00:00:00\", \"2020-02-09T00:00:00\", \"2020-02-08T00:00:00\", \"2020-02-07T00:00:00\", \"2020-02-06T00:00:00\", \"2020-02-05T00:00:00\", \"2020-02-04T00:00:00\", \"2020-02-03T00:00:00\", \"2020-02-02T00:00:00\", \"2020-02-01T00:00:00\", \"2020-01-31T00:00:00\", \"2020-01-30T00:00:00\", \"2020-01-29T00:00:00\", \"2020-01-28T00:00:00\", \"2020-01-27T00:00:00\", \"2020-01-26T00:00:00\", \"2020-01-25T00:00:00\", \"2020-01-24T00:00:00\", \"2020-01-23T00:00:00\", \"2020-01-22T00:00:00\", \"2020-01-21T00:00:00\", \"2020-01-20T00:00:00\", \"2020-01-19T00:00:00\", \"2020-01-18T00:00:00\", \"2020-01-17T00:00:00\", \"2020-01-16T00:00:00\", \"2020-01-15T00:00:00\", \"2020-01-14T00:00:00\", \"2020-01-13T00:00:00\", \"2020-01-12T00:00:00\", \"2020-01-11T00:00:00\", \"2020-01-10T00:00:00\", \"2020-01-09T00:00:00\", \"2020-01-08T00:00:00\", \"2020-01-07T00:00:00\", \"2020-01-06T00:00:00\", \"2020-01-05T00:00:00\", \"2020-01-04T00:00:00\", \"2020-01-03T00:00:00\", \"2020-01-02T00:00:00\", \"2020-01-01T00:00:00\", \"2019-12-31T00:00:00\"], \"xaxis\": \"x\", \"y\": [10, 34, 43, 62, 56, 51, 54, 26, 33, 47, 59, 32, 49, 14, 0, 15, 9, 20, 24, 22, 20, 0, 12, 27, 12, 9, 18, 7, 0, 7, 14, 8, 1, 4, 0, 0, 0, 0, 0, 0, 0, 5, 0, 1, 4, 1, 3, 4, 3, 1, 0, 1, 0, 1, 0, 0, 0, 0, 0, 0, 0, 0, 1, 0, 0, 0, 0, 0, 0, 0, 0, 0, 0, 0, 0, 0, 0, 0], \"yaxis\": \"y\"}, {\"hoverlabel\": {\"namelength\": 0}, \"hovertemplate\": \"<b>%{hovertext}</b><br><br>Countries=Spain<br>DateRep=%{x}<br>Cases=%{y}\", \"hovertext\": [\"Spain\", \"Spain\", \"Spain\", \"Spain\", \"Spain\", \"Spain\", \"Spain\", \"Spain\", \"Spain\", \"Spain\", \"Spain\", \"Spain\", \"Spain\", \"Spain\", \"Spain\", \"Spain\", \"Spain\", \"Spain\", \"Spain\", \"Spain\", \"Spain\", \"Spain\", \"Spain\", \"Spain\", \"Spain\", \"Spain\", \"Spain\", \"Spain\", \"Spain\", \"Spain\", \"Spain\", \"Spain\", \"Spain\", \"Spain\", \"Spain\", \"Spain\", \"Spain\", \"Spain\", \"Spain\", \"Spain\", \"Spain\", \"Spain\", \"Spain\", \"Spain\", \"Spain\", \"Spain\", \"Spain\", \"Spain\", \"Spain\", \"Spain\", \"Spain\", \"Spain\", \"Spain\", \"Spain\", \"Spain\", \"Spain\", \"Spain\", \"Spain\", \"Spain\", \"Spain\", \"Spain\", \"Spain\", \"Spain\", \"Spain\", \"Spain\", \"Spain\", \"Spain\", \"Spain\", \"Spain\", \"Spain\", \"Spain\", \"Spain\", \"Spain\", \"Spain\", \"Spain\", \"Spain\", \"Spain\", \"Spain\"], \"legendgroup\": \"Countries=Spain\", \"line\": {\"color\": \"#00cc96\", \"dash\": \"solid\"}, \"mode\": \"lines\", \"name\": \"Countries=Spain\", \"showlegend\": true, \"type\": \"scatter\", \"x\": [\"2020-03-17T00:00:00\", \"2020-03-16T00:00:00\", \"2020-03-15T00:00:00\", \"2020-03-14T00:00:00\", \"2020-03-13T00:00:00\", \"2020-03-12T00:00:00\", \"2020-03-11T00:00:00\", \"2020-03-10T00:00:00\", \"2020-03-09T00:00:00\", \"2020-03-08T00:00:00\", \"2020-03-07T00:00:00\", \"2020-03-06T00:00:00\", \"2020-03-05T00:00:00\", \"2020-03-04T00:00:00\", \"2020-03-03T00:00:00\", \"2020-03-02T00:00:00\", \"2020-03-01T00:00:00\", \"2020-02-29T00:00:00\", \"2020-02-28T00:00:00\", \"2020-02-27T00:00:00\", \"2020-02-26T00:00:00\", \"2020-02-25T00:00:00\", \"2020-02-24T00:00:00\", \"2020-02-23T00:00:00\", \"2020-02-22T00:00:00\", \"2020-02-21T00:00:00\", \"2020-02-20T00:00:00\", \"2020-02-19T00:00:00\", \"2020-02-18T00:00:00\", \"2020-02-17T00:00:00\", \"2020-02-16T00:00:00\", \"2020-02-15T00:00:00\", \"2020-02-14T00:00:00\", \"2020-02-13T00:00:00\", \"2020-02-12T00:00:00\", \"2020-02-11T00:00:00\", \"2020-02-10T00:00:00\", \"2020-02-09T00:00:00\", \"2020-02-08T00:00:00\", \"2020-02-07T00:00:00\", \"2020-02-06T00:00:00\", \"2020-02-05T00:00:00\", \"2020-02-04T00:00:00\", \"2020-02-03T00:00:00\", \"2020-02-02T00:00:00\", \"2020-02-01T00:00:00\", \"2020-01-31T00:00:00\", \"2020-01-30T00:00:00\", \"2020-01-29T00:00:00\", \"2020-01-28T00:00:00\", \"2020-01-27T00:00:00\", \"2020-01-26T00:00:00\", \"2020-01-25T00:00:00\", \"2020-01-24T00:00:00\", \"2020-01-23T00:00:00\", \"2020-01-22T00:00:00\", \"2020-01-21T00:00:00\", \"2020-01-20T00:00:00\", \"2020-01-19T00:00:00\", \"2020-01-18T00:00:00\", \"2020-01-17T00:00:00\", \"2020-01-16T00:00:00\", \"2020-01-15T00:00:00\", \"2020-01-14T00:00:00\", \"2020-01-13T00:00:00\", \"2020-01-12T00:00:00\", \"2020-01-11T00:00:00\", \"2020-01-10T00:00:00\", \"2020-01-09T00:00:00\", \"2020-01-08T00:00:00\", \"2020-01-07T00:00:00\", \"2020-01-06T00:00:00\", \"2020-01-05T00:00:00\", \"2020-01-04T00:00:00\", \"2020-01-03T00:00:00\", \"2020-01-02T00:00:00\", \"2020-01-01T00:00:00\", \"2019-12-31T00:00:00\"], \"xaxis\": \"x\", \"y\": [1438, 2000, 1522, 1227, 864, 501, 435, 615, 159, 56, 113, 61, 49, 37, 31, 17, 32, 9, 13, 5, 4, 1, 0, 0, 0, 0, 0, 0, 0, 0, 0, 0, 0, 0, 0, 0, 1, 0, 0, 0, 0, 0, 0, 0, 0, 1, 0, 0, 0, 0, 0, 0, 0, 0, 0, 0, 0, 0, 0, 0, 0, 0, 0, 0, 0, 0, 0, 0, 0, 0, 0, 0, 0, 0, 0, 0, 0, 0], \"yaxis\": \"y\"}],\n",
              "                        {\"legend\": {\"tracegroupgap\": 0}, \"margin\": {\"t\": 60}, \"template\": {\"data\": {\"bar\": [{\"error_x\": {\"color\": \"#2a3f5f\"}, \"error_y\": {\"color\": \"#2a3f5f\"}, \"marker\": {\"line\": {\"color\": \"#E5ECF6\", \"width\": 0.5}}, \"type\": \"bar\"}], \"barpolar\": [{\"marker\": {\"line\": {\"color\": \"#E5ECF6\", \"width\": 0.5}}, \"type\": \"barpolar\"}], \"carpet\": [{\"aaxis\": {\"endlinecolor\": \"#2a3f5f\", \"gridcolor\": \"white\", \"linecolor\": \"white\", \"minorgridcolor\": \"white\", \"startlinecolor\": \"#2a3f5f\"}, \"baxis\": {\"endlinecolor\": \"#2a3f5f\", \"gridcolor\": \"white\", \"linecolor\": \"white\", \"minorgridcolor\": \"white\", \"startlinecolor\": \"#2a3f5f\"}, \"type\": \"carpet\"}], \"choropleth\": [{\"colorbar\": {\"outlinewidth\": 0, \"ticks\": \"\"}, \"type\": \"choropleth\"}], \"contour\": [{\"colorbar\": {\"outlinewidth\": 0, \"ticks\": \"\"}, \"colorscale\": [[0.0, \"#0d0887\"], [0.1111111111111111, \"#46039f\"], [0.2222222222222222, \"#7201a8\"], [0.3333333333333333, \"#9c179e\"], [0.4444444444444444, \"#bd3786\"], [0.5555555555555556, \"#d8576b\"], [0.6666666666666666, \"#ed7953\"], [0.7777777777777778, \"#fb9f3a\"], [0.8888888888888888, \"#fdca26\"], [1.0, \"#f0f921\"]], \"type\": \"contour\"}], \"contourcarpet\": [{\"colorbar\": {\"outlinewidth\": 0, \"ticks\": \"\"}, \"type\": \"contourcarpet\"}], \"heatmap\": [{\"colorbar\": {\"outlinewidth\": 0, \"ticks\": \"\"}, \"colorscale\": [[0.0, \"#0d0887\"], [0.1111111111111111, \"#46039f\"], [0.2222222222222222, \"#7201a8\"], [0.3333333333333333, \"#9c179e\"], [0.4444444444444444, \"#bd3786\"], [0.5555555555555556, \"#d8576b\"], [0.6666666666666666, \"#ed7953\"], [0.7777777777777778, \"#fb9f3a\"], [0.8888888888888888, \"#fdca26\"], [1.0, \"#f0f921\"]], \"type\": \"heatmap\"}], \"heatmapgl\": [{\"colorbar\": {\"outlinewidth\": 0, \"ticks\": \"\"}, \"colorscale\": [[0.0, \"#0d0887\"], [0.1111111111111111, \"#46039f\"], [0.2222222222222222, \"#7201a8\"], [0.3333333333333333, \"#9c179e\"], [0.4444444444444444, \"#bd3786\"], [0.5555555555555556, \"#d8576b\"], [0.6666666666666666, \"#ed7953\"], [0.7777777777777778, \"#fb9f3a\"], [0.8888888888888888, \"#fdca26\"], [1.0, \"#f0f921\"]], \"type\": \"heatmapgl\"}], \"histogram\": [{\"marker\": {\"colorbar\": {\"outlinewidth\": 0, \"ticks\": \"\"}}, \"type\": \"histogram\"}], \"histogram2d\": [{\"colorbar\": {\"outlinewidth\": 0, \"ticks\": \"\"}, \"colorscale\": [[0.0, \"#0d0887\"], [0.1111111111111111, \"#46039f\"], [0.2222222222222222, \"#7201a8\"], [0.3333333333333333, \"#9c179e\"], [0.4444444444444444, \"#bd3786\"], [0.5555555555555556, \"#d8576b\"], [0.6666666666666666, \"#ed7953\"], [0.7777777777777778, \"#fb9f3a\"], [0.8888888888888888, \"#fdca26\"], [1.0, \"#f0f921\"]], \"type\": \"histogram2d\"}], \"histogram2dcontour\": [{\"colorbar\": {\"outlinewidth\": 0, \"ticks\": \"\"}, \"colorscale\": [[0.0, \"#0d0887\"], [0.1111111111111111, \"#46039f\"], [0.2222222222222222, \"#7201a8\"], [0.3333333333333333, \"#9c179e\"], [0.4444444444444444, \"#bd3786\"], [0.5555555555555556, \"#d8576b\"], [0.6666666666666666, \"#ed7953\"], [0.7777777777777778, \"#fb9f3a\"], [0.8888888888888888, \"#fdca26\"], [1.0, \"#f0f921\"]], \"type\": \"histogram2dcontour\"}], \"mesh3d\": [{\"colorbar\": {\"outlinewidth\": 0, \"ticks\": \"\"}, \"type\": \"mesh3d\"}], \"parcoords\": [{\"line\": {\"colorbar\": {\"outlinewidth\": 0, \"ticks\": \"\"}}, \"type\": \"parcoords\"}], \"pie\": [{\"automargin\": true, \"type\": \"pie\"}], \"scatter\": [{\"marker\": {\"colorbar\": {\"outlinewidth\": 0, \"ticks\": \"\"}}, \"type\": \"scatter\"}], \"scatter3d\": [{\"line\": {\"colorbar\": {\"outlinewidth\": 0, \"ticks\": \"\"}}, \"marker\": {\"colorbar\": {\"outlinewidth\": 0, \"ticks\": \"\"}}, \"type\": \"scatter3d\"}], \"scattercarpet\": [{\"marker\": {\"colorbar\": {\"outlinewidth\": 0, \"ticks\": \"\"}}, \"type\": \"scattercarpet\"}], \"scattergeo\": [{\"marker\": {\"colorbar\": {\"outlinewidth\": 0, \"ticks\": \"\"}}, \"type\": \"scattergeo\"}], \"scattergl\": [{\"marker\": {\"colorbar\": {\"outlinewidth\": 0, \"ticks\": \"\"}}, \"type\": \"scattergl\"}], \"scattermapbox\": [{\"marker\": {\"colorbar\": {\"outlinewidth\": 0, \"ticks\": \"\"}}, \"type\": \"scattermapbox\"}], \"scatterpolar\": [{\"marker\": {\"colorbar\": {\"outlinewidth\": 0, \"ticks\": \"\"}}, \"type\": \"scatterpolar\"}], \"scatterpolargl\": [{\"marker\": {\"colorbar\": {\"outlinewidth\": 0, \"ticks\": \"\"}}, \"type\": \"scatterpolargl\"}], \"scatterternary\": [{\"marker\": {\"colorbar\": {\"outlinewidth\": 0, \"ticks\": \"\"}}, \"type\": \"scatterternary\"}], \"surface\": [{\"colorbar\": {\"outlinewidth\": 0, \"ticks\": \"\"}, \"colorscale\": [[0.0, \"#0d0887\"], [0.1111111111111111, \"#46039f\"], [0.2222222222222222, \"#7201a8\"], [0.3333333333333333, \"#9c179e\"], [0.4444444444444444, \"#bd3786\"], [0.5555555555555556, \"#d8576b\"], [0.6666666666666666, \"#ed7953\"], [0.7777777777777778, \"#fb9f3a\"], [0.8888888888888888, \"#fdca26\"], [1.0, \"#f0f921\"]], \"type\": \"surface\"}], \"table\": [{\"cells\": {\"fill\": {\"color\": \"#EBF0F8\"}, \"line\": {\"color\": \"white\"}}, \"header\": {\"fill\": {\"color\": \"#C8D4E3\"}, \"line\": {\"color\": \"white\"}}, \"type\": \"table\"}]}, \"layout\": {\"annotationdefaults\": {\"arrowcolor\": \"#2a3f5f\", \"arrowhead\": 0, \"arrowwidth\": 1}, \"coloraxis\": {\"colorbar\": {\"outlinewidth\": 0, \"ticks\": \"\"}}, \"colorscale\": {\"diverging\": [[0, \"#8e0152\"], [0.1, \"#c51b7d\"], [0.2, \"#de77ae\"], [0.3, \"#f1b6da\"], [0.4, \"#fde0ef\"], [0.5, \"#f7f7f7\"], [0.6, \"#e6f5d0\"], [0.7, \"#b8e186\"], [0.8, \"#7fbc41\"], [0.9, \"#4d9221\"], [1, \"#276419\"]], \"sequential\": [[0.0, \"#0d0887\"], [0.1111111111111111, \"#46039f\"], [0.2222222222222222, \"#7201a8\"], [0.3333333333333333, \"#9c179e\"], [0.4444444444444444, \"#bd3786\"], [0.5555555555555556, \"#d8576b\"], [0.6666666666666666, \"#ed7953\"], [0.7777777777777778, \"#fb9f3a\"], [0.8888888888888888, \"#fdca26\"], [1.0, \"#f0f921\"]], \"sequentialminus\": [[0.0, \"#0d0887\"], [0.1111111111111111, \"#46039f\"], [0.2222222222222222, \"#7201a8\"], [0.3333333333333333, \"#9c179e\"], [0.4444444444444444, \"#bd3786\"], [0.5555555555555556, \"#d8576b\"], [0.6666666666666666, \"#ed7953\"], [0.7777777777777778, \"#fb9f3a\"], [0.8888888888888888, \"#fdca26\"], [1.0, \"#f0f921\"]]}, \"colorway\": [\"#636efa\", \"#EF553B\", \"#00cc96\", \"#ab63fa\", \"#FFA15A\", \"#19d3f3\", \"#FF6692\", \"#B6E880\", \"#FF97FF\", \"#FECB52\"], \"font\": {\"color\": \"#2a3f5f\"}, \"geo\": {\"bgcolor\": \"white\", \"lakecolor\": \"white\", \"landcolor\": \"#E5ECF6\", \"showlakes\": true, \"showland\": true, \"subunitcolor\": \"white\"}, \"hoverlabel\": {\"align\": \"left\"}, \"hovermode\": \"closest\", \"mapbox\": {\"style\": \"light\"}, \"paper_bgcolor\": \"white\", \"plot_bgcolor\": \"#E5ECF6\", \"polar\": {\"angularaxis\": {\"gridcolor\": \"white\", \"linecolor\": \"white\", \"ticks\": \"\"}, \"bgcolor\": \"#E5ECF6\", \"radialaxis\": {\"gridcolor\": \"white\", \"linecolor\": \"white\", \"ticks\": \"\"}}, \"scene\": {\"xaxis\": {\"backgroundcolor\": \"#E5ECF6\", \"gridcolor\": \"white\", \"gridwidth\": 2, \"linecolor\": \"white\", \"showbackground\": true, \"ticks\": \"\", \"zerolinecolor\": \"white\"}, \"yaxis\": {\"backgroundcolor\": \"#E5ECF6\", \"gridcolor\": \"white\", \"gridwidth\": 2, \"linecolor\": \"white\", \"showbackground\": true, \"ticks\": \"\", \"zerolinecolor\": \"white\"}, \"zaxis\": {\"backgroundcolor\": \"#E5ECF6\", \"gridcolor\": \"white\", \"gridwidth\": 2, \"linecolor\": \"white\", \"showbackground\": true, \"ticks\": \"\", \"zerolinecolor\": \"white\"}}, \"shapedefaults\": {\"line\": {\"color\": \"#2a3f5f\"}}, \"ternary\": {\"aaxis\": {\"gridcolor\": \"white\", \"linecolor\": \"white\", \"ticks\": \"\"}, \"baxis\": {\"gridcolor\": \"white\", \"linecolor\": \"white\", \"ticks\": \"\"}, \"bgcolor\": \"#E5ECF6\", \"caxis\": {\"gridcolor\": \"white\", \"linecolor\": \"white\", \"ticks\": \"\"}}, \"title\": {\"x\": 0.05}, \"xaxis\": {\"automargin\": true, \"gridcolor\": \"white\", \"linecolor\": \"white\", \"ticks\": \"\", \"title\": {\"standoff\": 15}, \"zerolinecolor\": \"white\", \"zerolinewidth\": 2}, \"yaxis\": {\"automargin\": true, \"gridcolor\": \"white\", \"linecolor\": \"white\", \"ticks\": \"\", \"title\": {\"standoff\": 15}, \"zerolinecolor\": \"white\", \"zerolinewidth\": 2}}}, \"xaxis\": {\"anchor\": \"y\", \"domain\": [0.0, 1.0], \"title\": {\"text\": \"DateRep\"}}, \"yaxis\": {\"anchor\": \"x\", \"domain\": [0.0, 1.0], \"title\": {\"text\": \"Cases\"}}},\n",
              "                        {\"responsive\": true}\n",
              "                    ).then(function(){\n",
              "                            \n",
              "var gd = document.getElementById('fa7f4d0d-d09b-4090-bc8c-0844abc45680');\n",
              "var x = new MutationObserver(function (mutations, observer) {{\n",
              "        var display = window.getComputedStyle(gd).display;\n",
              "        if (!display || display === 'none') {{\n",
              "            console.log([gd, 'removed!']);\n",
              "            Plotly.purge(gd);\n",
              "            observer.disconnect();\n",
              "        }}\n",
              "}});\n",
              "\n",
              "// Listen for the removal of the full notebook cells\n",
              "var notebookContainer = gd.closest('#notebook-container');\n",
              "if (notebookContainer) {{\n",
              "    x.observe(notebookContainer, {childList: true});\n",
              "}}\n",
              "\n",
              "// Listen for the clearing of the current output cell\n",
              "var outputEl = gd.closest('.output');\n",
              "if (outputEl) {{\n",
              "    x.observe(outputEl, {childList: true});\n",
              "}}\n",
              "\n",
              "                        })\n",
              "                };\n",
              "                \n",
              "            </script>\n",
              "        </div>\n",
              "</body>\n",
              "</html>"
            ]
          },
          "metadata": {
            "tags": []
          }
        }
      ]
    },
    {
      "cell_type": "markdown",
      "metadata": {
        "id": "pIervMRBffx-",
        "colab_type": "text"
      },
      "source": [
        "In the next lines, I generate a python dictionary filled by dataframes of every country in the database.\n",
        "For getting information from each country just:\n",
        "\n",
        "\n",
        "```\n",
        "d[key].tail(30)\n",
        "```\n",
        "Valid keys are also shown in *countries_list*.\n"
      ]
    },
    {
      "cell_type": "code",
      "metadata": {
        "id": "vRHP6tjd8iRq",
        "colab_type": "code",
        "colab": {}
      },
      "source": [
        "## Generating a suitable dataframe for every country within a dictionary\n",
        "d = {}\n",
        "for country in countries:\n",
        "    d[country] = pd.DataFrame()\n",
        "for key in d.keys():\n",
        "  d[key] = casos1.loc[casos1.Countries == key]\n",
        "  d[key] = d[key].drop(columns=['GeoId'])\n",
        "  d[key][\"DateRep\"] = d[key][\"DateRep\"].astype(\"datetime64\")\n",
        "  d[key] = d[key][d[key].Cases != 0]\n",
        "  d[key] = d[key].sort_values(by = 'DateRep')\n",
        "  d[key]['Cases'] = d[key]['Cases'].cumsum()\n",
        "  d[key]['Deaths'] = d[key]['Deaths'].cumsum()"
      ],
      "execution_count": 0,
      "outputs": []
    },
    {
      "cell_type": "markdown",
      "metadata": {
        "id": "eS3jH5_2SAgQ",
        "colab_type": "text"
      },
      "source": [
        "# Saving data in SQL databases. \n",
        "I will use a folder as a database but you can connect it to your own (see https://www.dataquest.io/blog/python-pandas-databases/) for further treatment."
      ]
    },
    {
      "cell_type": "code",
      "metadata": {
        "id": "theT8t0x7TFC",
        "colab_type": "code",
        "colab": {}
      },
      "source": [
        "# Saving the complete database to sql:\n",
        "connection0 = sql.connect(\"covid_total.db\")\n",
        "\n",
        "# Generating a table for each country:\n",
        "dsql = {} \n",
        "for country in countries:\n",
        "  dsql[country] = pd.DataFrame()\n",
        "for key in dsql.keys():\n",
        "  dsql[key] = casos1.loc[casos1.Countries == key]\n",
        "  dsql[key] = dsql[key].drop(columns=['GeoId'])\n",
        "  dsql[key][\"DateRep\"] = dsql[key][\"DateRep\"].astype(\"datetime64\")\n",
        "  dsql[key] = dsql[key][dsql[key].Cases != 0]\n",
        "  dsql[key] = dsql[key].sort_values(by = 'DateRep')\n",
        "  dsql[key]['Cases'] = dsql[key]['Cases'].cumsum()\n",
        "  dsql[key]['Deaths'] = dsql[key]['Deaths'].cumsum()\n",
        "\n",
        "connection = sql.connect(\"covidsql_per_country.db\")    # connect to db\n",
        "crsr = connection.cursor()                             # cursor\n",
        "\n",
        "for key in dsql.keys():\n",
        "  dsql[key].to_sql(key,connection, if_exists = 'replace')"
      ],
      "execution_count": 0,
      "outputs": []
    }
  ]
}